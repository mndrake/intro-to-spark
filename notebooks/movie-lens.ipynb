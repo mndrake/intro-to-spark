{
 "cells": [
  {
   "cell_type": "code",
   "execution_count": 1,
   "id": "f5ce56fc",
   "metadata": {},
   "outputs": [],
   "source": [
    "import pyspark\n",
    "from pyspark.sql import SparkSession, Row\n",
    "from pyspark.sql.functions import to_timestamp, col, avg, split"
   ]
  },
  {
   "cell_type": "code",
   "execution_count": 2,
   "id": "88e1c50d",
   "metadata": {},
   "outputs": [
    {
     "name": "stderr",
     "output_type": "stream",
     "text": [
      "21/10/07 09:56:16 WARN NativeCodeLoader: Unable to load native-hadoop library for your platform... using builtin-java classes where applicable\n",
      "Using Spark's default log4j profile: org/apache/spark/log4j-defaults.properties\n",
      "Setting default log level to \"WARN\".\n",
      "To adjust logging level use sc.setLogLevel(newLevel). For SparkR, use setLogLevel(newLevel).\n"
     ]
    },
    {
     "data": {
      "text/html": [
       "\n",
       "            <div>\n",
       "                <p><b>SparkSession - in-memory</b></p>\n",
       "                \n",
       "        <div>\n",
       "            <p><b>SparkContext</b></p>\n",
       "\n",
       "            <p><a href=\"http://172.22.34.48:4040\">Spark UI</a></p>\n",
       "\n",
       "            <dl>\n",
       "              <dt>Version</dt>\n",
       "                <dd><code>v3.1.2</code></dd>\n",
       "              <dt>Master</dt>\n",
       "                <dd><code>local[3]</code></dd>\n",
       "              <dt>AppName</dt>\n",
       "                <dd><code>pyspark-shell</code></dd>\n",
       "            </dl>\n",
       "        </div>\n",
       "        \n",
       "            </div>\n",
       "        "
      ],
      "text/plain": [
       "<pyspark.sql.session.SparkSession at 0x10d768790>"
      ]
     },
     "execution_count": 2,
     "metadata": {},
     "output_type": "execute_result"
    }
   ],
   "source": [
    "spark = SparkSession.builder.master('local[3]').getOrCreate()\n",
    "spark"
   ]
  },
  {
   "cell_type": "code",
   "execution_count": 3,
   "id": "8cc0a855",
   "metadata": {},
   "outputs": [
    {
     "name": "stdout",
     "output_type": "stream",
     "text": [
      "1::Toy Story (1995)::Animation|Children's|Comedy\r\n",
      "2::Jumanji (1995)::Adventure|Children's|Fantasy\r\n",
      "3::Grumpier Old Men (1995)::Comedy|Romance\r\n",
      "4::Waiting to Exhale (1995)::Comedy|Drama\r\n",
      "5::Father of the Bride Part II (1995)::Comedy\r\n"
     ]
    }
   ],
   "source": [
    "!head -n 5 ../data/ml-1m/movies.dat"
   ]
  },
  {
   "cell_type": "markdown",
   "id": "0ef08b96",
   "metadata": {},
   "source": [
    "### Read in data as Spark DataFrames"
   ]
  },
  {
   "cell_type": "code",
   "execution_count": 3,
   "id": "a5b8483e",
   "metadata": {},
   "outputs": [],
   "source": [
    "movies_df = \\\n",
    "    spark.read.csv('../data/ml-1m/movies.dat', sep='::', \n",
    "                   schema='movie_id INT, title STRING, genres STRING') \\\n",
    "    .withColumn('generes', split('genres', '[|]'))\n",
    "\n",
    "ratings_df = \\\n",
    "    spark.read.csv('../data/ml-1m/ratings.dat', sep='::', \n",
    "                   schema='user_id INT, movie_id INT, rating INT, timestamp LONG') \\\n",
    "    .withColumn('timestamp', to_timestamp('timestamp'))\n",
    "\n",
    "users_df = \\\n",
    "    spark.read.csv('../data/ml-1m/users.dat', sep='::', \n",
    "                   schema='user_id INT, gender STRING, age INT, occupation INT, zipcode STRING') \\"
   ]
  },
  {
   "cell_type": "code",
   "execution_count": 4,
   "id": "896b85a0",
   "metadata": {},
   "outputs": [
    {
     "name": "stdout",
     "output_type": "stream",
     "text": [
      "+--------+--------------------+--------------------+--------------------+\n",
      "|movie_id|               title|              genres|             generes|\n",
      "+--------+--------------------+--------------------+--------------------+\n",
      "|       1|    Toy Story (1995)|Animation|Childre...|[Animation, Child...|\n",
      "|       2|      Jumanji (1995)|Adventure|Childre...|[Adventure, Child...|\n",
      "|       3|Grumpier Old Men ...|      Comedy|Romance|   [Comedy, Romance]|\n",
      "|       4|Waiting to Exhale...|        Comedy|Drama|     [Comedy, Drama]|\n",
      "|       5|Father of the Bri...|              Comedy|            [Comedy]|\n",
      "+--------+--------------------+--------------------+--------------------+\n",
      "only showing top 5 rows\n",
      "\n"
     ]
    }
   ],
   "source": [
    "movies_df.show(5)"
   ]
  },
  {
   "cell_type": "code",
   "execution_count": 11,
   "id": "45fb52da",
   "metadata": {
    "scrolled": true
   },
   "outputs": [
    {
     "data": {
      "text/plain": [
       "[\"1::Toy Story (1995)::Animation|Children's|Comedy\"]"
      ]
     },
     "execution_count": 11,
     "metadata": {},
     "output_type": "execute_result"
    }
   ],
   "source": [
    "movies_rdd = spark.sparkContext.textFile('../data/ml-1m/movies.dat')\n",
    "\n",
    "movies_rdd.take(1)"
   ]
  },
  {
   "cell_type": "code",
   "execution_count": 8,
   "id": "fdd8a970",
   "metadata": {},
   "outputs": [
    {
     "data": {
      "text/plain": [
       "[['1', 'Toy Story (1995)', \"Animation|Children's|Comedy\"],\n",
       " ['2', 'Jumanji (1995)', \"Adventure|Children's|Fantasy\"]]"
      ]
     },
     "execution_count": 8,
     "metadata": {},
     "output_type": "execute_result"
    }
   ],
   "source": [
    "movies_rdd.map(lambda x: x.split('::')).take(2)"
   ]
  },
  {
   "cell_type": "code",
   "execution_count": 9,
   "id": "184e4757",
   "metadata": {},
   "outputs": [],
   "source": [
    "movies_parsed = \\\n",
    "movies_rdd \\\n",
    ".map(lambda r: r.split('::')) \\\n",
    ".map(lambda r: Row(movie_id=int(r[0]), title=r[1], genres=r[2].split('|'))) \\\n",
    ".toDF()"
   ]
  },
  {
   "cell_type": "code",
   "execution_count": 10,
   "id": "2c66a739",
   "metadata": {},
   "outputs": [
    {
     "data": {
      "text/html": [
       "<div>\n",
       "<style scoped>\n",
       "    .dataframe tbody tr th:only-of-type {\n",
       "        vertical-align: middle;\n",
       "    }\n",
       "\n",
       "    .dataframe tbody tr th {\n",
       "        vertical-align: top;\n",
       "    }\n",
       "\n",
       "    .dataframe thead th {\n",
       "        text-align: right;\n",
       "    }\n",
       "</style>\n",
       "<table border=\"1\" class=\"dataframe\">\n",
       "  <thead>\n",
       "    <tr style=\"text-align: right;\">\n",
       "      <th></th>\n",
       "      <th>movie_id</th>\n",
       "      <th>title</th>\n",
       "      <th>genres</th>\n",
       "    </tr>\n",
       "  </thead>\n",
       "  <tbody>\n",
       "    <tr>\n",
       "      <th>0</th>\n",
       "      <td>1</td>\n",
       "      <td>Toy Story (1995)</td>\n",
       "      <td>[Animation, Children's, Comedy]</td>\n",
       "    </tr>\n",
       "    <tr>\n",
       "      <th>1</th>\n",
       "      <td>2</td>\n",
       "      <td>Jumanji (1995)</td>\n",
       "      <td>[Adventure, Children's, Fantasy]</td>\n",
       "    </tr>\n",
       "    <tr>\n",
       "      <th>2</th>\n",
       "      <td>3</td>\n",
       "      <td>Grumpier Old Men (1995)</td>\n",
       "      <td>[Comedy, Romance]</td>\n",
       "    </tr>\n",
       "    <tr>\n",
       "      <th>3</th>\n",
       "      <td>4</td>\n",
       "      <td>Waiting to Exhale (1995)</td>\n",
       "      <td>[Comedy, Drama]</td>\n",
       "    </tr>\n",
       "    <tr>\n",
       "      <th>4</th>\n",
       "      <td>5</td>\n",
       "      <td>Father of the Bride Part II (1995)</td>\n",
       "      <td>[Comedy]</td>\n",
       "    </tr>\n",
       "    <tr>\n",
       "      <th>5</th>\n",
       "      <td>6</td>\n",
       "      <td>Heat (1995)</td>\n",
       "      <td>[Action, Crime, Thriller]</td>\n",
       "    </tr>\n",
       "    <tr>\n",
       "      <th>6</th>\n",
       "      <td>7</td>\n",
       "      <td>Sabrina (1995)</td>\n",
       "      <td>[Comedy, Romance]</td>\n",
       "    </tr>\n",
       "    <tr>\n",
       "      <th>7</th>\n",
       "      <td>8</td>\n",
       "      <td>Tom and Huck (1995)</td>\n",
       "      <td>[Adventure, Children's]</td>\n",
       "    </tr>\n",
       "    <tr>\n",
       "      <th>8</th>\n",
       "      <td>9</td>\n",
       "      <td>Sudden Death (1995)</td>\n",
       "      <td>[Action]</td>\n",
       "    </tr>\n",
       "    <tr>\n",
       "      <th>9</th>\n",
       "      <td>10</td>\n",
       "      <td>GoldenEye (1995)</td>\n",
       "      <td>[Action, Adventure, Thriller]</td>\n",
       "    </tr>\n",
       "    <tr>\n",
       "      <th>10</th>\n",
       "      <td>11</td>\n",
       "      <td>American President, The (1995)</td>\n",
       "      <td>[Comedy, Drama, Romance]</td>\n",
       "    </tr>\n",
       "    <tr>\n",
       "      <th>11</th>\n",
       "      <td>12</td>\n",
       "      <td>Dracula: Dead and Loving It (1995)</td>\n",
       "      <td>[Comedy, Horror]</td>\n",
       "    </tr>\n",
       "    <tr>\n",
       "      <th>12</th>\n",
       "      <td>13</td>\n",
       "      <td>Balto (1995)</td>\n",
       "      <td>[Animation, Children's]</td>\n",
       "    </tr>\n",
       "    <tr>\n",
       "      <th>13</th>\n",
       "      <td>14</td>\n",
       "      <td>Nixon (1995)</td>\n",
       "      <td>[Drama]</td>\n",
       "    </tr>\n",
       "    <tr>\n",
       "      <th>14</th>\n",
       "      <td>15</td>\n",
       "      <td>Cutthroat Island (1995)</td>\n",
       "      <td>[Action, Adventure, Romance]</td>\n",
       "    </tr>\n",
       "    <tr>\n",
       "      <th>15</th>\n",
       "      <td>16</td>\n",
       "      <td>Casino (1995)</td>\n",
       "      <td>[Drama, Thriller]</td>\n",
       "    </tr>\n",
       "    <tr>\n",
       "      <th>16</th>\n",
       "      <td>17</td>\n",
       "      <td>Sense and Sensibility (1995)</td>\n",
       "      <td>[Drama, Romance]</td>\n",
       "    </tr>\n",
       "    <tr>\n",
       "      <th>17</th>\n",
       "      <td>18</td>\n",
       "      <td>Four Rooms (1995)</td>\n",
       "      <td>[Thriller]</td>\n",
       "    </tr>\n",
       "    <tr>\n",
       "      <th>18</th>\n",
       "      <td>19</td>\n",
       "      <td>Ace Ventura: When Nature Calls (1995)</td>\n",
       "      <td>[Comedy]</td>\n",
       "    </tr>\n",
       "    <tr>\n",
       "      <th>19</th>\n",
       "      <td>20</td>\n",
       "      <td>Money Train (1995)</td>\n",
       "      <td>[Action]</td>\n",
       "    </tr>\n",
       "  </tbody>\n",
       "</table>\n",
       "</div>"
      ],
      "text/plain": [
       "    movie_id                                  title  \\\n",
       "0          1                       Toy Story (1995)   \n",
       "1          2                         Jumanji (1995)   \n",
       "2          3                Grumpier Old Men (1995)   \n",
       "3          4               Waiting to Exhale (1995)   \n",
       "4          5     Father of the Bride Part II (1995)   \n",
       "5          6                            Heat (1995)   \n",
       "6          7                         Sabrina (1995)   \n",
       "7          8                    Tom and Huck (1995)   \n",
       "8          9                    Sudden Death (1995)   \n",
       "9         10                       GoldenEye (1995)   \n",
       "10        11         American President, The (1995)   \n",
       "11        12     Dracula: Dead and Loving It (1995)   \n",
       "12        13                           Balto (1995)   \n",
       "13        14                           Nixon (1995)   \n",
       "14        15                Cutthroat Island (1995)   \n",
       "15        16                          Casino (1995)   \n",
       "16        17           Sense and Sensibility (1995)   \n",
       "17        18                      Four Rooms (1995)   \n",
       "18        19  Ace Ventura: When Nature Calls (1995)   \n",
       "19        20                     Money Train (1995)   \n",
       "\n",
       "                              genres  \n",
       "0    [Animation, Children's, Comedy]  \n",
       "1   [Adventure, Children's, Fantasy]  \n",
       "2                  [Comedy, Romance]  \n",
       "3                    [Comedy, Drama]  \n",
       "4                           [Comedy]  \n",
       "5          [Action, Crime, Thriller]  \n",
       "6                  [Comedy, Romance]  \n",
       "7            [Adventure, Children's]  \n",
       "8                           [Action]  \n",
       "9      [Action, Adventure, Thriller]  \n",
       "10          [Comedy, Drama, Romance]  \n",
       "11                  [Comedy, Horror]  \n",
       "12           [Animation, Children's]  \n",
       "13                           [Drama]  \n",
       "14      [Action, Adventure, Romance]  \n",
       "15                 [Drama, Thriller]  \n",
       "16                  [Drama, Romance]  \n",
       "17                        [Thriller]  \n",
       "18                          [Comedy]  \n",
       "19                          [Action]  "
      ]
     },
     "execution_count": 10,
     "metadata": {},
     "output_type": "execute_result"
    }
   ],
   "source": [
    "movies_parsed.limit(20).toPandas()"
   ]
  },
  {
   "cell_type": "code",
   "execution_count": null,
   "id": "bb6537e6",
   "metadata": {},
   "outputs": [],
   "source": [
    "[['1', 'Toy Story (1995)', \"Animation|Children's|Comedy\"],\n",
    " ['2', 'Jumanji (1995)', \"Adventure|Children's|Fantasy\"]]"
   ]
  },
  {
   "cell_type": "code",
   "execution_count": 12,
   "id": "b91386b9",
   "metadata": {},
   "outputs": [],
   "source": [
    "movies_df.registerTempTable('movies')"
   ]
  },
  {
   "cell_type": "code",
   "execution_count": 13,
   "id": "ec8a1574",
   "metadata": {},
   "outputs": [
    {
     "data": {
      "text/html": [
       "<div>\n",
       "<style scoped>\n",
       "    .dataframe tbody tr th:only-of-type {\n",
       "        vertical-align: middle;\n",
       "    }\n",
       "\n",
       "    .dataframe tbody tr th {\n",
       "        vertical-align: top;\n",
       "    }\n",
       "\n",
       "    .dataframe thead th {\n",
       "        text-align: right;\n",
       "    }\n",
       "</style>\n",
       "<table border=\"1\" class=\"dataframe\">\n",
       "  <thead>\n",
       "    <tr style=\"text-align: right;\">\n",
       "      <th></th>\n",
       "      <th>movie_id</th>\n",
       "      <th>title</th>\n",
       "      <th>genres</th>\n",
       "    </tr>\n",
       "  </thead>\n",
       "  <tbody>\n",
       "    <tr>\n",
       "      <th>0</th>\n",
       "      <td>1</td>\n",
       "      <td>Toy Story (1995)</td>\n",
       "      <td>[Animation, Children's, Comedy]</td>\n",
       "    </tr>\n",
       "    <tr>\n",
       "      <th>1</th>\n",
       "      <td>2</td>\n",
       "      <td>Jumanji (1995)</td>\n",
       "      <td>[Adventure, Children's, Fantasy]</td>\n",
       "    </tr>\n",
       "    <tr>\n",
       "      <th>2</th>\n",
       "      <td>3</td>\n",
       "      <td>Grumpier Old Men (1995)</td>\n",
       "      <td>[Comedy, Romance]</td>\n",
       "    </tr>\n",
       "    <tr>\n",
       "      <th>3</th>\n",
       "      <td>4</td>\n",
       "      <td>Waiting to Exhale (1995)</td>\n",
       "      <td>[Comedy, Drama]</td>\n",
       "    </tr>\n",
       "    <tr>\n",
       "      <th>4</th>\n",
       "      <td>5</td>\n",
       "      <td>Father of the Bride Part II (1995)</td>\n",
       "      <td>[Comedy]</td>\n",
       "    </tr>\n",
       "    <tr>\n",
       "      <th>5</th>\n",
       "      <td>6</td>\n",
       "      <td>Heat (1995)</td>\n",
       "      <td>[Action, Crime, Thriller]</td>\n",
       "    </tr>\n",
       "    <tr>\n",
       "      <th>6</th>\n",
       "      <td>7</td>\n",
       "      <td>Sabrina (1995)</td>\n",
       "      <td>[Comedy, Romance]</td>\n",
       "    </tr>\n",
       "    <tr>\n",
       "      <th>7</th>\n",
       "      <td>8</td>\n",
       "      <td>Tom and Huck (1995)</td>\n",
       "      <td>[Adventure, Children's]</td>\n",
       "    </tr>\n",
       "    <tr>\n",
       "      <th>8</th>\n",
       "      <td>9</td>\n",
       "      <td>Sudden Death (1995)</td>\n",
       "      <td>[Action]</td>\n",
       "    </tr>\n",
       "    <tr>\n",
       "      <th>9</th>\n",
       "      <td>10</td>\n",
       "      <td>GoldenEye (1995)</td>\n",
       "      <td>[Action, Adventure, Thriller]</td>\n",
       "    </tr>\n",
       "  </tbody>\n",
       "</table>\n",
       "</div>"
      ],
      "text/plain": [
       "   movie_id                               title  \\\n",
       "0         1                    Toy Story (1995)   \n",
       "1         2                      Jumanji (1995)   \n",
       "2         3             Grumpier Old Men (1995)   \n",
       "3         4            Waiting to Exhale (1995)   \n",
       "4         5  Father of the Bride Part II (1995)   \n",
       "5         6                         Heat (1995)   \n",
       "6         7                      Sabrina (1995)   \n",
       "7         8                 Tom and Huck (1995)   \n",
       "8         9                 Sudden Death (1995)   \n",
       "9        10                    GoldenEye (1995)   \n",
       "\n",
       "                             genres  \n",
       "0   [Animation, Children's, Comedy]  \n",
       "1  [Adventure, Children's, Fantasy]  \n",
       "2                 [Comedy, Romance]  \n",
       "3                   [Comedy, Drama]  \n",
       "4                          [Comedy]  \n",
       "5         [Action, Crime, Thriller]  \n",
       "6                 [Comedy, Romance]  \n",
       "7           [Adventure, Children's]  \n",
       "8                          [Action]  \n",
       "9     [Action, Adventure, Thriller]  "
      ]
     },
     "execution_count": 13,
     "metadata": {},
     "output_type": "execute_result"
    }
   ],
   "source": [
    "spark.sql(\"select movie_id, title, split(genres, '[|]') as genres from movies\").limit(10).toPandas()"
   ]
  },
  {
   "cell_type": "code",
   "execution_count": 14,
   "id": "cbbb35a5",
   "metadata": {},
   "outputs": [],
   "source": [
    "# Analysis\n",
    "a = ratings_df.join(users_df, on='user_id')\n",
    "\n",
    "complete = a.join(movies_df, on='movie_id')"
   ]
  },
  {
   "cell_type": "code",
   "execution_count": 15,
   "id": "208346d1",
   "metadata": {},
   "outputs": [
    {
     "name": "stdout",
     "output_type": "stream",
     "text": [
      "+-------+--------+------+-------------------+------+---+----------+-------+\n",
      "|user_id|movie_id|rating|          timestamp|gender|age|occupation|zipcode|\n",
      "+-------+--------+------+-------------------+------+---+----------+-------+\n",
      "|      1|    1193|     5|2000-12-31 16:12:40|     F|  1|        10|  48067|\n",
      "|      1|     661|     3|2000-12-31 16:35:09|     F|  1|        10|  48067|\n",
      "|      1|     914|     3|2000-12-31 16:32:48|     F|  1|        10|  48067|\n",
      "|      1|    3408|     4|2000-12-31 16:04:35|     F|  1|        10|  48067|\n",
      "|      1|    2355|     5|2001-01-06 17:38:11|     F|  1|        10|  48067|\n",
      "|      1|    1197|     3|2000-12-31 16:37:48|     F|  1|        10|  48067|\n",
      "|      1|    1287|     5|2000-12-31 16:33:59|     F|  1|        10|  48067|\n",
      "|      1|    2804|     5|2000-12-31 16:11:59|     F|  1|        10|  48067|\n",
      "|      1|     594|     4|2000-12-31 16:37:48|     F|  1|        10|  48067|\n",
      "|      1|     919|     4|2000-12-31 16:22:48|     F|  1|        10|  48067|\n",
      "+-------+--------+------+-------------------+------+---+----------+-------+\n",
      "only showing top 10 rows\n",
      "\n"
     ]
    }
   ],
   "source": [
    "a.show(10)"
   ]
  },
  {
   "cell_type": "code",
   "execution_count": null,
   "id": "e8b5836b",
   "metadata": {},
   "outputs": [],
   "source": [
    "complete.show(10)"
   ]
  },
  {
   "cell_type": "code",
   "execution_count": null,
   "id": "b237a6f2",
   "metadata": {},
   "outputs": [],
   "source": [
    "avgs = complete.groupBy('user_id').agg(avg('rating').alias('avg_rating'))\n",
    "\n",
    "final = complete.join(avgs, on='user_id')\n",
    "\n",
    "df = final.withColumn('rescaled_rating', col('rating') - col('avg_rating'))\n",
    "\n",
    "stats = df.groupBy('occupation').avg('rescaled_rating')"
   ]
  },
  {
   "cell_type": "code",
   "execution_count": null,
   "id": "ad512997",
   "metadata": {},
   "outputs": [],
   "source": [
    "stats.show(10)"
   ]
  },
  {
   "cell_type": "code",
   "execution_count": null,
   "id": "6bfad433",
   "metadata": {},
   "outputs": [],
   "source": [
    "spark"
   ]
  },
  {
   "cell_type": "code",
   "execution_count": null,
   "id": "7895dfbc",
   "metadata": {},
   "outputs": [],
   "source": [
    "# Analysis\n",
    "a = ratings\\\n",
    "      .join(users, ratings['user_id']==users['user_id'], 'inner')\\\n",
    "      .drop(users['user_id'])\n",
    "\n",
    "complete = a\\\n",
    "            .join(movies, a['movie_id']==movies['movie_id'], 'inner')\\\n",
    "            .drop(movies['movie_id'])\n",
    "\n",
    "avgs = complete.groupBy('user_id').agg(\n",
    "    spfun.avg('rating').alias('avg_rating')\n",
    ")\n",
    "\n",
    "final = complete\\\n",
    "          .join(avgs, complete['user_id']==avgs['user_id'])\\\n",
    "          .drop(avgs['user_id'])\n",
    "\n",
    "df = final.withColumn('rescaled_rating', final['rating'] - final['avg_rating'])\n",
    "\n",
    "stats = df.groupBy('occupation').avg('rescaled_rating')\n",
    "\n",
    "# Output datasets\n",
    "aggregates = dataiku.Dataset(\"aggregates\")\n",
    "dkuspark.write_with_schema(aggregates, stats)"
   ]
  },
  {
   "cell_type": "code",
   "execution_count": null,
   "id": "c6483050",
   "metadata": {},
   "outputs": [],
   "source": []
  },
  {
   "cell_type": "code",
   "execution_count": null,
   "id": "86a3fafc",
   "metadata": {},
   "outputs": [],
   "source": [
    "# -*- coding: utf-8 -*-\n",
    "import dataiku\n",
    "import dataiku.spark as dkuspark\n",
    "import pyspark\n",
    "from pyspark.sql import SQLContext\n",
    "from pyspark.sql import functions as spfun\n",
    "\n",
    "# Load PySpark\n",
    "sc = pyspark.SparkContext()\n",
    "sqlContext = SQLContext(sc)\n",
    "\n",
    "# Point to the DSS datasets\n",
    "users_ds = dataiku.Dataset(\"users\")\n",
    "movies_ds = dataiku.Dataset(\"movies\")\n",
    "ratings_ds = dataiku.Dataset(\"ratings\")\n",
    "\n",
    "# And read them as a Spark dataframes\n",
    "users = dkuspark.get_dataframe(sqlContext, users_ds)\n",
    "movies = dkuspark.get_dataframe(sqlContext, movies_ds)\n",
    "ratings = dkuspark.get_dataframe(sqlContext, ratings_ds)\n",
    "\n",
    "# Analysis\n",
    "a = ratings\\\n",
    "      .join(users, ratings['user_id']==users['user_id'], 'inner')\\\n",
    "      .drop(users['user_id'])\n",
    "\n",
    "complete = a\\\n",
    "            .join(movies, a['movie_id']==movies['movie_id'], 'inner')\\\n",
    "            .drop(movies['movie_id'])\n",
    "\n",
    "avgs = complete.groupBy('user_id').agg(\n",
    "    spfun.avg('rating').alias('avg_rating')\n",
    ")\n",
    "\n",
    "final = complete\\\n",
    "          .join(avgs, complete['user_id']==avgs['user_id'])\\\n",
    "          .drop(avgs['user_id'])\n",
    "\n",
    "df = final.withColumn('rescaled_rating', final['rating'] - final['avg_rating'])\n",
    "\n",
    "stats = df.groupBy('occupation').avg('rescaled_rating')\n",
    "\n",
    "# Output datasets\n",
    "aggregates = dataiku.Dataset(\"aggregates\")\n",
    "dkuspark.write_with_schema(aggregates, stats)"
   ]
  }
 ],
 "metadata": {
  "kernelspec": {
   "display_name": "Python 3 (ipykernel)",
   "language": "python",
   "name": "python3"
  },
  "language_info": {
   "codemirror_mode": {
    "name": "ipython",
    "version": 3
   },
   "file_extension": ".py",
   "mimetype": "text/x-python",
   "name": "python",
   "nbconvert_exporter": "python",
   "pygments_lexer": "ipython3",
   "version": "3.7.11"
  }
 },
 "nbformat": 4,
 "nbformat_minor": 5
}
